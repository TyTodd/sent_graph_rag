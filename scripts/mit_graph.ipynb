{
 "cells": [
  {
   "cell_type": "markdown",
   "metadata": {},
   "source": [
    "# Guide to Converting a Dataset to a Sentence Graph Dataset"
   ]
  },
  {
   "cell_type": "code",
   "execution_count": 1,
   "metadata": {},
   "outputs": [],
   "source": [
    "import graph_tool as gt"
   ]
  },
  {
   "cell_type": "code",
   "execution_count": 2,
   "metadata": {},
   "outputs": [],
   "source": [
    "from sent_graph_rag.Datasets import SentenceGraphCreator\n",
    "import spacy\n",
    "import pickle"
   ]
  },
  {
   "cell_type": "code",
   "execution_count": 3,
   "metadata": {},
   "outputs": [
    {
     "name": "stderr",
     "output_type": "stream",
     "text": [
      "/home/tytodd/miniconda3/envs/sent_graph_rag/lib/python3.11/site-packages/tqdm/auto.py:21: TqdmWarning: IProgress not found. Please update jupyter and ipywidgets. See https://ipywidgets.readthedocs.io/en/stable/user_install.html\n",
      "  from .autonotebook import tqdm as notebook_tqdm\n"
     ]
    }
   ],
   "source": [
    "from spacy.pipeline import EntityLinker\n",
    "from fastcoref import spacy_component"
   ]
  },
  {
   "cell_type": "markdown",
   "metadata": {},
   "source": [
    "## Load spacy model"
   ]
  },
  {
   "cell_type": "code",
   "execution_count": 4,
   "metadata": {},
   "outputs": [
    {
     "name": "stderr",
     "output_type": "stream",
     "text": [
      "04/04/2025 14:24:50 - INFO - \t missing_keys: []\n",
      "04/04/2025 14:24:50 - INFO - \t unexpected_keys: []\n",
      "04/04/2025 14:24:50 - INFO - \t mismatched_keys: []\n",
      "04/04/2025 14:24:50 - INFO - \t error_msgs: []\n",
      "04/04/2025 14:24:50 - INFO - \t Model Parameters: 90.5M, Transformer: 82.1M, Coref head: 8.4M\n"
     ]
    },
    {
     "data": {
      "text/plain": [
       "<fastcoref.spacy_component.spacy_component.FastCorefResolver at 0x781a16e5c450>"
      ]
     },
     "execution_count": 4,
     "metadata": {},
     "output_type": "execute_result"
    }
   ],
   "source": [
    "from datasets.utils.logging import disable_progress_bar\n",
    "disable_progress_bar()\n",
    "nlp = spacy.load(\"en_core_web_sm\")\n",
    "# nlp.add_pipe(\"fastcoref\",  config={'device': 'cuda:0', \"enable_progress_bar\": False})\n",
    "nlp.add_pipe(\"fastcoref\",  config={'device': 'cuda:0', \"enable_progress_bar\": False})"
   ]
  },
  {
   "cell_type": "markdown",
   "metadata": {},
   "source": [
    "## Load MIT Corpus"
   ]
  },
  {
   "cell_type": "code",
   "execution_count": 5,
   "metadata": {},
   "outputs": [],
   "source": [
    "corpus_path = \"../data/mit_wiki.txt\"\n",
    "with open(corpus_path, \"r\") as f:\n",
    "    corpus = f.read()\n",
    "    corpus2 = f.read()\n"
   ]
  },
  {
   "cell_type": "code",
   "execution_count": 6,
   "metadata": {},
   "outputs": [
    {
     "name": "stderr",
     "output_type": "stream",
     "text": [
      "04/04/2025 14:24:54 - INFO - \t Tokenize 1 inputs...\n",
      "04/04/2025 14:24:54 - INFO - \t ***** Running Inference on 1 texts *****\n"
     ]
    },
    {
     "name": "stdout",
     "output_type": "stream",
     "text": [
      "Inference time: 2.150508403778076\n",
      "Graph Build Time: 0.19897103309631348\n"
     ]
    }
   ],
   "source": [
    "grapher = SentenceGraphCreator(nlp, verbose=True)\n",
    "graphs = grapher.create_graphs([corpus], graph_type=\"gt\")\n",
    "graph, vertex_map = graphs[0]\n",
    "# graph2, vertex_map2 = graphs[1]\n"
   ]
  },
  {
   "cell_type": "code",
   "execution_count": 7,
   "metadata": {},
   "outputs": [
    {
     "name": "stdout",
     "output_type": "stream",
     "text": [
      "The Massachusetts Institute of Technology\n",
      "-----------\n",
      "the Institute\n",
      "-----------\n",
      "MIT's\n",
      "-----------\n",
      "The Institute\n",
      "-----------\n",
      "the Institute's\n",
      "-----------\n",
      "the Massachusetts Institute of Technology\n",
      "-----------\n",
      "MIT\n",
      "-----------\n"
     ]
    }
   ],
   "source": [
    "v1 = vertex_map[\"The Massachusetts Institute of Technology_ORG_TERMINAL\"]\n",
    "v2 = vertex_map[\"The Massachusetts Institute of Technology_ORG\"]\n",
    "\n",
    "# all_edges = graph.edge(v1, v2, all_edges=True)\n",
    "# for i, edge in enumerate(all_edges):\n",
    "#   print(i, graph.edge_properties[\"sentence\"][edge])\n",
    "\n",
    "for alias in graph.vertex_properties[\"aliases\"][v2]:\n",
    "    print(alias)\n",
    "    print(\"-----------\")\n"
   ]
  },
  {
   "cell_type": "code",
   "execution_count": 8,
   "metadata": {},
   "outputs": [
    {
     "name": "stdout",
     "output_type": "stream",
     "text": [
      "True\n"
     ]
    }
   ],
   "source": [
    "print(bool(graph.vertex_properties[\"terminal\"][v1]))\n"
   ]
  },
  {
   "cell_type": "markdown",
   "metadata": {},
   "source": [
    "## Test saving graph"
   ]
  },
  {
   "cell_type": "code",
   "execution_count": 9,
   "metadata": {},
   "outputs": [],
   "source": [
    "graph.save(\"../data/mit.gt\")\n"
   ]
  },
  {
   "cell_type": "code",
   "execution_count": 10,
   "metadata": {},
   "outputs": [
    {
     "name": "stdout",
     "output_type": "stream",
     "text": [
      "0 The institute also has a strong entrepreneurial culture and MIT alumni have founded or co-founded many notable companies.\n",
      "1 The institute also has a strong entrepreneurial culture and MIT alumni have founded or co-founded many notable companies.\n",
      "2 The fledgling school still suffered from chronic financial shortages which diverted the attention of the MIT leadership.\n",
      "3 The fledgling school still suffered from chronic financial shortages which diverted the attention of the MIT leadership.\n",
      "4 Unlike Ivy League schools, MIT catered more to middle-class families, and depended more on tuition than on endowments or grants for its funding.\n",
      "5 Unlike Ivy League schools, MIT catered more to middle-class families, and depended more on tuition than on endowments or grants for its funding.\n",
      "6 We might call it a university limited in its objectives but unlimited in the breadth and the thoroughness with which it pursues these objectives.\n",
      "\n",
      "\n",
      "\n",
      "7 We might call it a university limited in its objectives but unlimited in the breadth and the thoroughness with which it pursues these objectives.\n",
      "\n",
      "\n",
      "\n",
      "8 We might call it a university limited in its objectives but unlimited in the breadth and the thoroughness with which it pursues these objectives.\n",
      "\n",
      "\n",
      "\n",
      "9 Recent history\n",
      "\n",
      "MIT has kept pace with and helped to advance the digital age.\n",
      "10 Each building at MIT has a number (possibly preceded by a W, N, E, or NW) designation, and most have a name as well.\n",
      "11 The prominence of the reactor's containment building in a densely populated area has been controversial, but MIT maintains that it is well-secured.\n",
      "\n",
      "\n",
      "\n",
      "12 MIT has also taken steps to reduce its environmental impact by running alternative fuel campus shuttles, subsidizing public transportation passes, constructing solar power offsets, and building a cogeneration plant to power campus electricity, heating, and cooling requirements.\n",
      "\n",
      "\n",
      "\n",
      "13 MIT has also taken steps to reduce its environmental impact by running alternative fuel campus shuttles, subsidizing public transportation passes, constructing solar power offsets, and building a cogeneration plant to power campus electricity, heating, and cooling requirements.\n",
      "\n",
      "\n",
      "\n",
      "14 MIT students refer to both their majors and classes using numbers or acronyms alone.\n",
      "15 While the pace and difficulty of MIT coursework has been compared to \"drinking from a fire hose\", the freshmen retention rate at MIT is similar to other research universities.\n",
      "16 While the pace and difficulty of MIT coursework has been compared to \"drinking from a fire hose\", the freshmen retention rate at MIT is similar to other research universities.\n",
      "17 MIT\n",
      "18 Collaborations\n",
      "\n",
      "The university historically pioneered research and training collaborations between academia, industry and government. \n",
      "19 While the Ivy League institutions settled, MIT contested the charges, arguing that the practice was not anti-competitive because it ensured the availability of aid for the greatest number of students.\n",
      "20 MIT allocates a percentage of the budget for all new construction and renovation to commission and support its extensive public art and outdoor sculpture collection.\n",
      "\n",
      "\n",
      "\n",
      "21 MIT allocates a percentage of the budget for all new construction and renovation to commission and support its extensive public art and outdoor sculpture collection.\n",
      "\n",
      "\n",
      "\n",
      "22 In electronics, magnetic-core memory, radar, single-electron transistors, and inertial guidance controls were invented or substantially developed by MIT researchers.\n",
      "23 In the domain of computer science, MIT faculty and researchers made fundamental contributions to cybernetics, artificial intelligence, computer languages, machine learning, robotics, and cryptography.\n",
      "24 Many MIT students also engage in \"hacking\", which encompasses both the physical exploration of areas that are generally off-limits (such as rooftops and steam tunnels), as well as elaborate practical jokes.\n"
     ]
    }
   ],
   "source": [
    "from graph_tool.all import load_graph\n",
    "\n",
    "graph2 = load_graph(\"../data/mit.gt\")\n",
    "all_edges = graph2.edge(v1, v2, all_edges=True)\n",
    "for i, edge in enumerate(all_edges):\n",
    "    print(i, graph2.edge_properties[\"sentence\"][edge])\n"
   ]
  },
  {
   "cell_type": "code",
   "execution_count": 11,
   "metadata": {},
   "outputs": [],
   "source": [
    "import io\n",
    "\n",
    "\n",
    "def graph_to_string(graph):\n",
    "    # Use BytesIO for binary data\n",
    "    buffer = io.BytesIO()\n",
    "    graph.save(buffer)  # Save in default .gt format\n",
    "    return buffer.getvalue()  # Return the binary data\n",
    "\n",
    "\n",
    "test_dict = {\"data\": {\"more_data\": graph_to_string(graph)}}\n",
    "\n",
    "with open(\"../data/dataset_with_graphs.pkl\", \"wb\") as f:\n",
    "    pickle.dump(test_dict, f)\n"
   ]
  },
  {
   "cell_type": "code",
   "execution_count": 12,
   "metadata": {},
   "outputs": [
    {
     "name": "stdout",
     "output_type": "stream",
     "text": [
      "0 The institute also has a strong entrepreneurial culture and MIT alumni have founded or co-founded many notable companies.\n",
      "1 The institute also has a strong entrepreneurial culture and MIT alumni have founded or co-founded many notable companies.\n",
      "2 The fledgling school still suffered from chronic financial shortages which diverted the attention of the MIT leadership.\n",
      "3 The fledgling school still suffered from chronic financial shortages which diverted the attention of the MIT leadership.\n",
      "4 Unlike Ivy League schools, MIT catered more to middle-class families, and depended more on tuition than on endowments or grants for its funding.\n",
      "5 Unlike Ivy League schools, MIT catered more to middle-class families, and depended more on tuition than on endowments or grants for its funding.\n",
      "6 We might call it a university limited in its objectives but unlimited in the breadth and the thoroughness with which it pursues these objectives.\n",
      "\n",
      "\n",
      "\n",
      "7 We might call it a university limited in its objectives but unlimited in the breadth and the thoroughness with which it pursues these objectives.\n",
      "\n",
      "\n",
      "\n",
      "8 We might call it a university limited in its objectives but unlimited in the breadth and the thoroughness with which it pursues these objectives.\n",
      "\n",
      "\n",
      "\n",
      "9 Recent history\n",
      "\n",
      "MIT has kept pace with and helped to advance the digital age.\n",
      "10 Each building at MIT has a number (possibly preceded by a W, N, E, or NW) designation, and most have a name as well.\n",
      "11 The prominence of the reactor's containment building in a densely populated area has been controversial, but MIT maintains that it is well-secured.\n",
      "\n",
      "\n",
      "\n",
      "12 MIT has also taken steps to reduce its environmental impact by running alternative fuel campus shuttles, subsidizing public transportation passes, constructing solar power offsets, and building a cogeneration plant to power campus electricity, heating, and cooling requirements.\n",
      "\n",
      "\n",
      "\n",
      "13 MIT has also taken steps to reduce its environmental impact by running alternative fuel campus shuttles, subsidizing public transportation passes, constructing solar power offsets, and building a cogeneration plant to power campus electricity, heating, and cooling requirements.\n",
      "\n",
      "\n",
      "\n",
      "14 MIT students refer to both their majors and classes using numbers or acronyms alone.\n",
      "15 While the pace and difficulty of MIT coursework has been compared to \"drinking from a fire hose\", the freshmen retention rate at MIT is similar to other research universities.\n",
      "16 While the pace and difficulty of MIT coursework has been compared to \"drinking from a fire hose\", the freshmen retention rate at MIT is similar to other research universities.\n",
      "17 MIT\n",
      "18 Collaborations\n",
      "\n",
      "The university historically pioneered research and training collaborations between academia, industry and government. \n",
      "19 While the Ivy League institutions settled, MIT contested the charges, arguing that the practice was not anti-competitive because it ensured the availability of aid for the greatest number of students.\n",
      "20 MIT allocates a percentage of the budget for all new construction and renovation to commission and support its extensive public art and outdoor sculpture collection.\n",
      "\n",
      "\n",
      "\n",
      "21 MIT allocates a percentage of the budget for all new construction and renovation to commission and support its extensive public art and outdoor sculpture collection.\n",
      "\n",
      "\n",
      "\n",
      "22 In electronics, magnetic-core memory, radar, single-electron transistors, and inertial guidance controls were invented or substantially developed by MIT researchers.\n",
      "23 In the domain of computer science, MIT faculty and researchers made fundamental contributions to cybernetics, artificial intelligence, computer languages, machine learning, robotics, and cryptography.\n",
      "24 Many MIT students also engage in \"hacking\", which encompasses both the physical exploration of areas that are generally off-limits (such as rooftops and steam tunnels), as well as elaborate practical jokes.\n"
     ]
    }
   ],
   "source": [
    "def string_to_graph(graph_string):\n",
    "    # Use BytesIO to read the binary data\n",
    "    buffer = io.BytesIO(graph_string)\n",
    "    graph = gt.Graph()  # Create an empty graph\n",
    "    graph.load(buffer)  # Load the graph from the buffer\n",
    "    return graph\n",
    "\n",
    "\n",
    "with open(\"../data/dataset_with_graphs.pkl\", \"rb\") as f:\n",
    "    test_dict_retrieved = pickle.load(f)\n",
    "\n",
    "graph_retrieved = string_to_graph(test_dict_retrieved[\"data\"][\"more_data\"])\n",
    "all_edges = graph_retrieved.edge(v1, v2, all_edges=True)\n",
    "# print(test_dict_retrieved[\"data\"])\n",
    "for i, edge in enumerate(all_edges):\n",
    "    print(i, graph_retrieved.edge_properties[\"sentence\"][edge])\n"
   ]
  },
  {
   "cell_type": "markdown",
   "metadata": {},
   "source": [
    "## Visualize Graph"
   ]
  },
  {
   "cell_type": "code",
   "execution_count": 13,
   "metadata": {},
   "outputs": [],
   "source": [
    "def graphtool_to_networkx_multigraph(gt_graph):\n",
    "    \"\"\"\n",
    "    Converts a graph-tool undirected multigraph to a NetworkX MultiGraph.\n",
    "    Be careful as it gets rid of all edge properties. Should only be used for visualizing graph\n",
    "\n",
    "    Args:\n",
    "        gt_graph (graph_tool.Graph): The input graph-tool graph (undirected multigraph).\n",
    "\n",
    "    Returns:\n",
    "        nx_multigraph (networkx.MultiGraph): The equivalent NetworkX MultiGraph.\n",
    "    \"\"\"\n",
    "    # Create an empty NetworkX MultiGraph\n",
    "    nx_multigraph = nx.MultiGraph()\n",
    "\n",
    "    # Add nodes with properties\n",
    "    for v in gt_graph.vertices():\n",
    "        # Add node properties if they exist\n",
    "        node_properties = {k: vprop[v] for k, vprop in gt_graph.vp.items()}\n",
    "        nx_multigraph.add_node(int(v), **node_properties)\n",
    "\n",
    "    # Add edges with properties\n",
    "    edge_counter = {}\n",
    "    for e in gt_graph.edges():\n",
    "        # Determine a unique key for each edge between the same source and target\n",
    "        source = int(e.source())\n",
    "        target = int(e.target())\n",
    "        edge_key = edge_counter.get((source, target), 0)\n",
    "        edge_counter[(source, target)] = edge_key + 1\n",
    "\n",
    "        # Add edge properties if they exist\n",
    "        # edge_properties = {k: eprop[e] for k, eprop in gt_graph.ep.items()}\n",
    "        nx_multigraph.add_edge(source, target, key=edge_key)\n",
    "\n",
    "    return nx_multigraph"
   ]
  },
  {
   "cell_type": "code",
   "execution_count": 21,
   "metadata": {},
   "outputs": [],
   "source": [
    "from pyvis.network import Network\n",
    "import networkx as nx\n",
    "from IPython.display import IFrame\n",
    "import matplotlib.pyplot as plt\n",
    "\n",
    "\n",
    "def visualize_graph(G, interactive=True):\n",
    "    net = Network(notebook=False,  \n",
    "                height=\"1100px\",  # increase height\n",
    "                width=\"100%\",    # full width of the cell\n",
    "    )\n",
    "    # Load into PyVis\n",
    "\n",
    "    # Convert to NetworkX\n",
    "    nx_graph = graphtool_to_networkx_multigraph(G)  # if graph-tool\n",
    "    # nx_graph = graph #if networkx\n",
    "\n",
    "    # nx_graph = graph.to_networkx()\n",
    "    net.from_nx(nx_graph)\n",
    "    net.set_options(\"\"\"\n",
    "        var options = {\n",
    "            \"physics\": {\n",
    "            \"enabled\": false\n",
    "            }\n",
    "        }\n",
    "    \"\"\")\n",
    "\n",
    "    # net.show(\"graph.html\")\n",
    "    if interactive:\n",
    "        net.save_graph(\"graph.html\")\n",
    "    else:\n",
    "        nx.draw(nx_graph, with_labels=True)\n",
    "        plt.show()\n",
    "\n",
    "    # IFrame(src=\"graph.html\", width=\"100%\", height=\"600px\")\n"
   ]
  },
  {
   "cell_type": "code",
   "execution_count": 23,
   "metadata": {},
   "outputs": [],
   "source": [
    "visualize_graph(graph, interactive=True)\n"
   ]
  },
  {
   "cell_type": "markdown",
   "metadata": {},
   "source": [
    "## Define Dataset Analysis Tools"
   ]
  },
  {
   "cell_type": "markdown",
   "metadata": {},
   "source": [
    "### Diameter Aproximater"
   ]
  },
  {
   "cell_type": "code",
   "execution_count": 24,
   "metadata": {},
   "outputs": [],
   "source": [
    "from graph_tool.all import Graph, GraphView, label_largest_component, pseudo_diameter\n",
    "\n",
    "\n",
    "def approximate_diameter(graph):\n",
    "    # Identify the largest connected component\n",
    "    largest_component = label_largest_component(graph)\n",
    "\n",
    "    # Extract the subgraph of the largest connected component\n",
    "    largest_cc_subgraph = GraphView(graph, vfilt=largest_component)\n",
    "\n",
    "    # Use pseudo_diameter to approximate the diameter\n",
    "    approx_diameter, _ = pseudo_diameter(largest_cc_subgraph)\n",
    "\n",
    "    return approx_diameter\n",
    "\n",
    "\n",
    "# print(\"Diameter: \", approximate_diameter(graph))\n"
   ]
  },
  {
   "cell_type": "markdown",
   "metadata": {},
   "source": [
    "### % of parallel edges"
   ]
  },
  {
   "cell_type": "code",
   "execution_count": 25,
   "metadata": {},
   "outputs": [
    {
     "name": "stdout",
     "output_type": "stream",
     "text": [
      "Terminal edges:\n",
      "Source: The Massachusetts Institute of Technology :label ORG , Target: label: terminal_node id: 36, Sentence: The institute also has a strong entrepreneurial culture and MIT alumni have founded or co-founded many notable companies.\n",
      "Source: The Massachusetts Institute of Technology :label ORG , Target: label: terminal_node id: 36, Sentence: The institute also has a strong entrepreneurial culture and MIT alumni have founded or co-founded many notable companies.\n",
      "Source: The Massachusetts Institute of Technology :label ORG , Target: label: terminal_node id: 36, Sentence: The fledgling school still suffered from chronic financial shortages which diverted the attention of the MIT leadership.\n",
      "Source: The Massachusetts Institute of Technology :label ORG , Target: label: terminal_node id: 36, Sentence: The fledgling school still suffered from chronic financial shortages which diverted the attention of the MIT leadership.\n",
      "Source: The Massachusetts Institute of Technology :label ORG , Target: label: terminal_node id: 36, Sentence: Unlike Ivy League schools, MIT catered more to middle-class families, and depended more on tuition than on endowments or grants for its funding.\n",
      "Source: The Massachusetts Institute of Technology :label ORG , Target: label: terminal_node id: 36, Sentence: Unlike Ivy League schools, MIT catered more to middle-class families, and depended more on tuition than on endowments or grants for its funding.\n",
      "Source: The Massachusetts Institute of Technology :label ORG , Target: label: terminal_node id: 36, Sentence: We might call it a university limited in its objectives but unlimited in the breadth and the thoroughness with which it pursues these objectives.\n",
      "\n",
      "\n",
      "\n",
      "Source: The Massachusetts Institute of Technology :label ORG , Target: label: terminal_node id: 36, Sentence: We might call it a university limited in its objectives but unlimited in the breadth and the thoroughness with which it pursues these objectives.\n",
      "\n",
      "\n",
      "\n",
      "Source: The Massachusetts Institute of Technology :label ORG , Target: label: terminal_node id: 36, Sentence: We might call it a university limited in its objectives but unlimited in the breadth and the thoroughness with which it pursues these objectives.\n",
      "\n",
      "\n",
      "\n",
      "Source: The Massachusetts Institute of Technology :label ORG , Target: label: terminal_node id: 36, Sentence: Recent history\n",
      "\n",
      "MIT has kept pace with and helped to advance the digital age.\n",
      "Source: The Massachusetts Institute of Technology :label ORG , Target: label: terminal_node id: 36, Sentence: Each building at MIT has a number (possibly preceded by a W, N, E, or NW) designation, and most have a name as well.\n",
      "Source: The Massachusetts Institute of Technology :label ORG , Target: label: terminal_node id: 36, Sentence: The prominence of the reactor's containment building in a densely populated area has been controversial, but MIT maintains that it is well-secured.\n",
      "\n",
      "\n",
      "\n",
      "Source: The Massachusetts Institute of Technology :label ORG , Target: label: terminal_node id: 36, Sentence: MIT has also taken steps to reduce its environmental impact by running alternative fuel campus shuttles, subsidizing public transportation passes, constructing solar power offsets, and building a cogeneration plant to power campus electricity, heating, and cooling requirements.\n",
      "\n",
      "\n",
      "\n",
      "Source: The Massachusetts Institute of Technology :label ORG , Target: label: terminal_node id: 36, Sentence: MIT has also taken steps to reduce its environmental impact by running alternative fuel campus shuttles, subsidizing public transportation passes, constructing solar power offsets, and building a cogeneration plant to power campus electricity, heating, and cooling requirements.\n",
      "\n",
      "\n",
      "\n",
      "Source: The Massachusetts Institute of Technology :label ORG , Target: label: terminal_node id: 36, Sentence: MIT students refer to both their majors and classes using numbers or acronyms alone.\n",
      "Source: The Massachusetts Institute of Technology :label ORG , Target: label: terminal_node id: 36, Sentence: While the pace and difficulty of MIT coursework has been compared to \"drinking from a fire hose\", the freshmen retention rate at MIT is similar to other research universities.\n",
      "Source: The Massachusetts Institute of Technology :label ORG , Target: label: terminal_node id: 36, Sentence: While the pace and difficulty of MIT coursework has been compared to \"drinking from a fire hose\", the freshmen retention rate at MIT is similar to other research universities.\n",
      "Source: The Massachusetts Institute of Technology :label ORG , Target: label: terminal_node id: 36, Sentence: MIT\n",
      "Source: The Massachusetts Institute of Technology :label ORG , Target: label: terminal_node id: 36, Sentence: Collaborations\n",
      "\n",
      "The university historically pioneered research and training collaborations between academia, industry and government. \n",
      "Source: The Massachusetts Institute of Technology :label ORG , Target: label: terminal_node id: 36, Sentence: While the Ivy League institutions settled, MIT contested the charges, arguing that the practice was not anti-competitive because it ensured the availability of aid for the greatest number of students.\n",
      "Source: The Massachusetts Institute of Technology :label ORG , Target: label: terminal_node id: 36, Sentence: MIT allocates a percentage of the budget for all new construction and renovation to commission and support its extensive public art and outdoor sculpture collection.\n",
      "\n",
      "\n",
      "\n",
      "Source: The Massachusetts Institute of Technology :label ORG , Target: label: terminal_node id: 36, Sentence: MIT allocates a percentage of the budget for all new construction and renovation to commission and support its extensive public art and outdoor sculpture collection.\n",
      "\n",
      "\n",
      "\n",
      "Source: The Massachusetts Institute of Technology :label ORG , Target: label: terminal_node id: 36, Sentence: In electronics, magnetic-core memory, radar, single-electron transistors, and inertial guidance controls were invented or substantially developed by MIT researchers.\n",
      "Source: The Massachusetts Institute of Technology :label ORG , Target: label: terminal_node id: 36, Sentence: In the domain of computer science, MIT faculty and researchers made fundamental contributions to cybernetics, artificial intelligence, computer languages, machine learning, robotics, and cryptography.\n",
      "Source: The Massachusetts Institute of Technology :label ORG , Target: label: terminal_node id: 36, Sentence: Many MIT students also engage in \"hacking\", which encompasses both the physical exploration of areas that are generally off-limits (such as rooftops and steam tunnels), as well as elaborate practical jokes.\n",
      "Source: Cambridge :label GPE , Target: label: terminal_node id: 537, Sentence: Many of the buildings are connected above ground as well as through an extensive network of tunnels, providing protection from the Cambridge weather as well as a venue for roof and tunnel hacking.\n",
      "\n",
      "\n",
      "\n",
      "Source: William Barton Rogers :label PERSON , Target: label: terminal_node id: 628, Sentence: He did not wish to found a professional school, but a combination with elements of both professional and liberal education, proposing that:\n",
      "\n",
      "\n",
      "The true and only practicable object of a polytechnic school is, as I conceive, the teaching, not of the minute details and manipulations of the arts, which can be done only in the workshop, but the inculcation of those scientific principles which form the basis and explanation of them, and along with this, a full and methodical review of all their leading processes and operations in connection with physical laws.\n",
      "\n",
      "\n",
      "Source: William Barton Rogers :label PERSON , Target: label: terminal_node id: 628, Sentence: He did not wish to found a professional school, but a combination with elements of both professional and liberal education, proposing that:\n",
      "\n",
      "\n",
      "The true and only practicable object of a polytechnic school is, as I conceive, the teaching, not of the minute details and manipulations of the arts, which can be done only in the workshop, but the inculcation of those scientific principles which form the basis and explanation of them, and along with this, a full and methodical review of all their leading processes and operations in connection with physical laws.\n",
      "\n",
      "\n",
      "Source: $1.2 billion :label MONEY , Target: label: terminal_node id: 678, Sentence: Work on defense projects continued even after then.\n",
      "Source: Jerome Wiesner :label PERSON , Target: label: terminal_node id: 674, Sentence: The work done there significantly affected both the war and subsequent research in the area.\n",
      "Source: The Blackstone Group :label ORG , Target: label: terminal_node id: 712, Sentence: The focus of the new college is to study not just AI, but interdisciplinary AI education, and how AI can be used in fields as diverse as history and biology.\n",
      "Source: The Blackstone Group :label ORG , Target: label: terminal_node id: 712, Sentence: The focus of the new college is to study not just AI, but interdisciplinary AI education, and how AI can be used in fields as diverse as history and biology.\n",
      "Source: The Blackstone Group :label ORG , Target: label: terminal_node id: 712, Sentence: The focus of the new college is to study not just AI, but interdisciplinary AI education, and how AI can be used in fields as diverse as history and biology.\n",
      "Source: LIGO :label ORG , Target: label: terminal_node id: 715, Sentence: It was designed to open the field of gravitational-wave astronomy through the detection of gravitational waves predicted by general relativity.\n",
      "Source: two :label CARDINAL , Target: label: terminal_node id: 719, Sentence: In addition, students at the two schools can cross-register for credits toward their own school's degrees without any additional fees.\n",
      "Source: four-year :label DATE , Target: label: terminal_node id: 764, Sentence: Undergraduate program\n",
      "\n",
      "The four-year, full-time undergraduate program maintains a balance between professional majors and those in the arts and sciences.\n",
      "Source: East Campus :label PERSON , Target: label: terminal_node id: 765, Sentence: East Campus has gained a reputation as a thriving counterculture.\"\n",
      "Source: Snyder :label PERSON , Target: label: terminal_node id: 801, Sentence: The successful student, according to Snyder, was the one who was able to discern which of the formal requirements were to be ignored in favor of which unstated norms.\n",
      "Source: Snyder :label PERSON , Target: label: terminal_node id: 801, Sentence: This sort of gamesmanship, Snyder argued, hindered development of a creative intellect and contributed to student discontent and unrest.\n",
      "\n",
      "\n",
      "\n",
      "Source: German :label NORP , Target: label: terminal_node id: 630, Sentence: The Rogers Plan reflected the German research university model, emphasizing an independent faculty engaged in research, as well as instruction oriented around seminars and laboratories.\n",
      "\n",
      "\n",
      "\n",
      "Source: more than one thousand :label CARDINAL , Target: label: terminal_node id: 642, Sentence: Programs in electrical, chemical, marine, and sanitary engineering were introduced, new buildings were built, and the size of the student body increased to more than one thousand.\n",
      "\n",
      "\n",
      "\n",
      "Source: $1 billion :label MONEY , Target: label: terminal_node id: 714, Sentence: The cost of buildings and new faculty for the new college is expected to be $1 billion upon completion.\n",
      "\n",
      "\n",
      "\n",
      "Source: Maclaurin :label ORG , Target: label: terminal_node id: 730, Sentence: The organization of building numbers roughly corresponds to the order in which the buildings were built and their location relative (north, west, and east) to the original center cluster of Maclaurin buildings.\n",
      "Source: US$400 million :label MONEY , Target: label: terminal_node id: 733, Sentence: With a cost of US$400 million, it is also one of the costliest buildings on campus.\n",
      "Source: Killian Court :label ORG , Target: label: terminal_node id: 750, Sentence: The friezes of the limestone-clad buildings around Killian Court are engraved with the names of important scientists and philosophers.\n",
      "Source: Bose Corporation :label PERSON , Target: label: terminal_node id: 772, Sentence: Among its holdings are a majority of shares in the audio equipment manufacturer Bose Corporation.\n",
      "\n",
      "\n",
      "\n",
      "Source: Linguistics :label PERSON , Target: label: terminal_node id: 781, Sentence: Students majoring in Electrical Engineering and Computer Science (EECS), the most popular department, collectively identify themselves as \"Course 6\".\n",
      "Source: the General Institute Requirements :label ORG , Target: label: terminal_node id: 785, Sentence: All undergraduates are required to complete a core curriculum called the General Institute Requirements (GIRs).\n",
      "Source: a Laboratory Requirement :label ORG , Target: label: terminal_node id: 787, Sentence: There is a Laboratory Requirement, usually satisfied by an appropriate class in a course major.\n",
      "Source: four quarters :label DATE , Target: label: terminal_node id: 789, Sentence: Finally, all students are required to complete a swimming test; non-varsity athletes must also take four quarters of physical education classes.\n",
      "\n",
      "\n",
      "\n",
      "Source: four quarters :label DATE , Target: label: terminal_node id: 789, Sentence: Most classes rely on a combination of lectures, recitations led by associate professors or graduate students, weekly problem sets (\"p-sets\"), and periodic quizzes or tests.\n",
      "Source: first-year :label DATE , Target: label: terminal_node id: 791, Sentence: The \"pass/no-record\" grading system relieves some pressure for first-year undergraduates.\n",
      "Source: the spring :label DATE , Target: label: terminal_node id: 793, Sentence: In the spring term, passing grades (A, B, C) appear on the transcript while non-passing grades are again not recorded.\n",
      "Source: the Undergraduate Research Opportunities Program :label ORG , Target: label: terminal_node id: 800, Sentence: Students join or initiate research projects (\"UROPs\") for academic credit, pay, or on a volunteer basis through postings on the UROP website or by contacting faculty members directly.\n",
      "Source: More than 90% :label PERCENT , Target: label: terminal_node id: 803, Sentence: More than 90% of doctoral students are supported by fellowships, research assistantships (RAs), or teaching assistantships (TAs).\n",
      "\n",
      "\n",
      "\n",
      "Source: The past decade :label DATE , Target: label: terminal_node id: 833, Sentence: The past decade has seen a trend of increased focus on digital over print resources in the libraries.\n",
      "Source: Harold Eugene Edgerton :label PERSON , Target: label: terminal_node id: 848, Sentence: Harold Eugene Edgerton was a pioneer in high-speed photography and sonar.\n",
      "Source: Jerome Lettvin :label PERSON , Target: label: terminal_node id: 859, Sentence: Jerome Lettvin transformed the study of cognitive science with his paper \"What the frog's eye tells the frog's brain\".\n",
      "Source: Jerome Lettvin :label PERSON , Target: label: terminal_node id: 859, Sentence: Jerome Lettvin transformed the study of cognitive science with his paper \"What the frog's eye tells the frog's brain\".\n",
      "Source: 3D :label ORG , Target: label: terminal_node id: 861, Sentence: Researchers developed a system to convert MRI scans into 3D printed physical models.\n",
      "\n",
      "\n",
      "\n",
      "Source: Brass Rat :label WORK_OF_ART , Target: label: terminal_node id: 867, Sentence: Many upperclass students and alumni wear a large, heavy, distinctive class ring known as the \"Brass Rat\".\n",
      "Source: English :label LANGUAGE , Target: label: terminal_node id: 874, Sentence: Less traditional activities include the \"world's largest open-shelf collection of science fiction\" in English, a model railroad club, and a vibrant folk dance scene.\n",
      "Source: Fraternities :label ORG , Target: label: terminal_node id: 876, Sentence: Fraternities and sororities provide a base of activities in addition to housing.\n"
     ]
    }
   ],
   "source": [
    "print(\"Terminal edges:\")\n",
    "for e in graph.edges():\n",
    "    if graph.edge_properties[\"terminal\"][e]:  # Check if the edge is terminal\n",
    "        print(\n",
    "            f\"Source: {graph.vertex_properties['label'][e.source()]} :label {graph.vertex_properties['ner_label'][e.source()]} , Target: label: {graph.vertex_properties['label'][e.target()]} id: {e.target()}, Sentence: {graph.edge_properties['sentence'][e]}\"\n",
    "        )\n"
   ]
  },
  {
   "cell_type": "code",
   "execution_count": 26,
   "metadata": {},
   "outputs": [],
   "source": [
    "from collections import Counter\n",
    "from graph_tool.all import Graph\n",
    "\n",
    "\n",
    "# Add example edges (if needed)\n",
    "# g.add_edge(source, target)\n",
    "def count_parallel_edges(g):\n",
    "    # Step 1: Create a list of all (source, target) pairs\n",
    "    # For undirected graphs, sort the source and target to ensure consistency\n",
    "    non_terminal_edges = [\n",
    "        (min(e.source(), e.target()), max(e.source(), e.target()))\n",
    "        for e in g.edges()\n",
    "        if not g.edge_properties[\"terminal\"][e]\n",
    "    ]\n",
    "\n",
    "    # Step 2: Count occurrences of each edge\n",
    "    edge_counts = Counter(non_terminal_edges)\n",
    "\n",
    "    # Step 3: Calculate the number of parallel edges\n",
    "    parallel_edge_count = sum(count for count in edge_counts.values() if count > 1)\n",
    "\n",
    "    # Step 4: Calculate the total number of edges\n",
    "    total_edge_count = g.num_edges()\n",
    "\n",
    "    # Step 5: Calculate the percentage of parallel edges\n",
    "    percentage_parallel_edges = (\n",
    "        (parallel_edge_count / total_edge_count) * 100 if total_edge_count > 0 else 0\n",
    "    )\n",
    "\n",
    "    return percentage_parallel_edges\n",
    "\n",
    "\n",
    "# print(f\"Percentage of parallel edges: {count_parallel_edges(graph):.2f}%\")\n"
   ]
  }
 ],
 "metadata": {
  "kernelspec": {
   "display_name": "sent_graph_rag",
   "language": "python",
   "name": "python3"
  },
  "language_info": {
   "codemirror_mode": {
    "name": "ipython",
    "version": 3
   },
   "file_extension": ".py",
   "mimetype": "text/x-python",
   "name": "python",
   "nbconvert_exporter": "python",
   "pygments_lexer": "ipython3",
   "version": "3.11.11"
  }
 },
 "nbformat": 4,
 "nbformat_minor": 2
}
