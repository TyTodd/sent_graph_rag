{
 "cells": [
  {
   "cell_type": "markdown",
   "metadata": {},
   "source": [
    "# SQUAD Dataset Conversion"
   ]
  },
  {
   "cell_type": "markdown",
   "metadata": {},
   "source": [
    "## Define dataset reader class for SQuAD dataset\n"
   ]
  },
  {
   "cell_type": "code",
   "execution_count": null,
   "metadata": {},
   "outputs": [],
   "source": [
    "def print_json_schema(data, indent=0):\n",
    "    \"\"\"Recursively print the schema of a JSON object.\"\"\"\n",
    "    if isinstance(data, dict):\n",
    "        print(\" \" * indent + \"{\")\n",
    "        for key, value in data.items():\n",
    "            print(\" \" * (indent + 2) + f'\"{key}\": {type(value).__name__}', end=\"\")\n",
    "            if isinstance(value, (dict, list)):\n",
    "                print(\" ->\")\n",
    "                print_json_schema(value, indent + 4)\n",
    "            else:\n",
    "                print(\",\")\n",
    "        print(\" \" * indent + \"}\")\n",
    "    elif isinstance(data, list):\n",
    "        print(\" \" * indent + \"[\")\n",
    "        if data:\n",
    "            print_json_schema(data[0], indent + 2)\n",
    "        else:\n",
    "            print(\" \" * (indent + 2) + \"Empty list\")\n",
    "        print(\" \" * indent + \"]\")\n",
    "    else:\n",
    "        print(\" \" * indent + f\"{type(data).__name__}\")"
   ]
  }
 ],
 "metadata": {
  "kernelspec": {
   "display_name": "sent_graph_rag",
   "language": "python",
   "name": "python3"
  },
  "language_info": {
   "name": "python",
   "version": "3.11.11"
  }
 },
 "nbformat": 4,
 "nbformat_minor": 2
}
